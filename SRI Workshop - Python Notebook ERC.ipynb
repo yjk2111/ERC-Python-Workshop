{
 "cells": [
  {
   "cell_type": "markdown",
   "metadata": {},
   "source": [
    "This notebook provides the code and workshop materials for the Barnard ERC Introduction to Python 3x Workshop. This notebook covers:\n",
    "\n",
    "#### 1. Print statements, Python syntax, Python libraries\n",
    "\n",
    "#### 2. Variables and Data Types\n",
    "\n",
    "#### 3. For Loops and If Statements\n",
    "\n",
    "#### 4. Importing Data\n",
    "\n",
    "#### 5. Basic Data Analysis \n",
    "- Summary Statistics\n",
    "- Tables\n",
    "- Regression Basics\n",
    "\n",
    "#### 5. Simple Plots with Matplotlib\n",
    "\n"
   ]
  },
  {
   "cell_type": "markdown",
   "metadata": {},
   "source": [
    "## Introduction\n",
    "\n",
    "Python is a modern, high-level programming language with many possible applications, including processing, cleaning, analyzing, and visualizing data.  Python and R are two of the most popular languages for data analysis.  While both applications can perform many of the same tasks, Python is commonly considered a general-purpose programming language, where R was developed specifically for statistical analysis.  However, as open source languages, users and programmers continually develop packages to address the weaknesses of both R and Python.\n",
    "\n",
    "Among the strengths of Python are its flexibility, easy-to-share notebooks, and readability (thus shorter learning curve!).\n",
    "\n",
    "If you are trying to decide where to invest your coding efforts, you can find many discussions on the internet that might help you decide if R or Python is likely to be more useful to you.  The DataCamp website has a nice comparison here, https://www.datacamp.com/community/tutorials/r-or-python-for-data-analysis#gs.TUFrz28.\n",
    "\n",
    "### Using Python\n",
    "\n",
    "Though there are many ways to use Python, today we will focus on Jupyter notebooks.  Notebooks provide a graphical interface, as oposed to the command line interface providing a user-friendly option for writing, debugging, and running code.  Jupyter notebooks, accessible via Anaconda Navigator, operate in your browser and allow you to include in-line results and outputs as well as formatted text.\n",
    "\n",
    "Python is implemented for many different tasks, but in this workshop, we will cover on key aspects of handling and analyzing data.  There are many Python tutorials online, which can provide more comprehensive instructions.  \n",
    "\n",
    "## Getting Started\n",
    "\n",
    "A few notes about writing and executing Python code in Jupyter notebooks:\n",
    "\n",
    "* You will write your code in a *cell*\n",
    "* To manage cells, use the **Cell** menu located along the top of your screen\n",
    "* There are different types of cells-- you will need Markdown for text and code cells for code \n",
    "* There are several ways to run code\n",
    "    + use control + enter (Mac) or CTRL + enter (Windows) to run a cell\n",
    "    + use **shift + enter** to run a cell and select the next cell\n",
    "* Note that the **Help** menu includes a User Interface Tour as well as a comprehensive guide to keyboard shortcuts\n",
    "* In **code cells**, the hash sign (**#**) indicates a **comment**, i.e., text written "
   ]
  },
  {
   "cell_type": "markdown",
   "metadata": {},
   "source": [
    "### Numbers\n",
    "Dealing with simple numerical data is fairly straightforward in Python, but there are a few things you should know about.\n",
    "\n"
   ]
  },
  {
   "cell_type": "markdown",
   "metadata": {},
   "source": [
    "### Integers\n",
    "You can do all of the basic operations with integers, and everything should behave as you expect. Addition and subtraction use the standard plus and minus symbols. Multiplication uses the asterisk, and division uses a forward slash. Exponents use two asterisks."
   ]
  },
  {
   "cell_type": "code",
   "execution_count": 1,
   "metadata": {},
   "outputs": [
    {
     "data": {
      "text/plain": [
       "4"
      ]
     },
     "execution_count": 1,
     "metadata": {},
     "output_type": "execute_result"
    }
   ],
   "source": [
    "2+2"
   ]
  },
  {
   "cell_type": "code",
   "execution_count": 2,
   "metadata": {},
   "outputs": [
    {
     "data": {
      "text/plain": [
       "-2"
      ]
     },
     "execution_count": 2,
     "metadata": {},
     "output_type": "execute_result"
    }
   ],
   "source": [
    "4-6"
   ]
  },
  {
   "cell_type": "markdown",
   "metadata": {},
   "source": [
    "Now you try squaring 5:"
   ]
  },
  {
   "cell_type": "code",
   "execution_count": null,
   "metadata": {},
   "outputs": [],
   "source": []
  },
  {
   "cell_type": "markdown",
   "metadata": {},
   "source": [
    "**Floating-Point numbers**\n",
    "\n",
    "Floating-point numbers, often abbreviated to 'floats,' refer to any number with a decimal point. Most of the time, you can think of floating point numbers as decimals, and they will behave as you expect them to.  Sometimes, however, you might get some unexpected results.\n",
    "\n"
   ]
  },
  {
   "cell_type": "code",
   "execution_count": 3,
   "metadata": {},
   "outputs": [
    {
     "name": "stdout",
     "output_type": "stream",
     "text": [
      "0.2\n"
     ]
    }
   ],
   "source": [
    "print(0.1+0.1)\n"
   ]
  },
  {
   "cell_type": "code",
   "execution_count": 4,
   "metadata": {},
   "outputs": [
    {
     "name": "stdout",
     "output_type": "stream",
     "text": [
      "0.30000000000000004\n"
     ]
    }
   ],
   "source": [
    "print(0.1+0.2)"
   ]
  },
  {
   "cell_type": "markdown",
   "metadata": {},
   "source": [
    "This output is a manifiestation of the method used to by computers to perform computations efficiently; this has nothing to do with Python itself.\n",
    "\n",
    "Python tries to hide this kind of stuff when possible. Don't worry about it much for now; just don't be surprised by it, and know that you can learn to clean up these results."
   ]
  },
  {
   "cell_type": "markdown",
   "metadata": {},
   "source": [
    "### Objects\n",
    "\n",
    "You can assign values to objects that you can use in many, many functions and applications.  For example, a variable holds a value, which can be a number or a string (alphanumeric characters).\n",
    "\n",
    "Below, we create an object called \"message\" and assign to it a string, \"Hello Python world!\"  Note that the *print()* function returns the value of the object.  "
   ]
  },
  {
   "cell_type": "code",
   "execution_count": 5,
   "metadata": {},
   "outputs": [
    {
     "name": "stdout",
     "output_type": "stream",
     "text": [
      "Hello Python world!\n"
     ]
    }
   ],
   "source": [
    "message = \"Hello Python world!\"\n",
    "print(message)\n"
   ]
  },
  {
   "cell_type": "code",
   "execution_count": 6,
   "metadata": {},
   "outputs": [
    {
     "name": "stdout",
     "output_type": "stream",
     "text": [
      "We are learning to use Python today.\n"
     ]
    }
   ],
   "source": [
    "message2 = \"We are learning to use Python today.\"\n",
    "print(message2)"
   ]
  },
  {
   "cell_type": "markdown",
   "metadata": {},
   "source": [
    "You can change or overwrite objects at any point.  We defined \"message\" in the prior cell, so we can print it again.  **Try assigning a new value to \"message\"** and print again. The new value will be returned.\n"
   ]
  },
  {
   "cell_type": "code",
   "execution_count": null,
   "metadata": {},
   "outputs": [],
   "source": [
    "print(message) \n",
    "\n",
    "message = \"\"\n",
    "print(message)"
   ]
  },
  {
   "cell_type": "markdown",
   "metadata": {},
   "source": [
    "### Naming rules\n",
    "- Python is case sensitive!\n",
    "- Variable names can only contain letters, numbers, and underscores. Variable names can start with a letter or an underscore but cannot start with a number.\n",
    "- Spaces are not allowed in variable names, so we use underscores instead of spaces. For example, use \"student_name\" instead of \"student name\".\n",
    "- You cannot use Python keywords as variable names.\n",
    "- Variable names should be descriptive, without being too long. For example \"mc_wheels\" is better than just \"wheels\" or \"number_of_wheels_on_a_motorycle\".\n",
    "- Be careful about using the lowercase letter l and the uppercase letter O in places where they could be confused with the numbers 1 and 0."
   ]
  },
  {
   "cell_type": "markdown",
   "metadata": {},
   "source": [
    "### Strings\n",
    "We have been using strings, but let's take a closer look: a string is a set of alphanumeric characters. Note that strings can include numbers, but you cannot perform mathematical operations on them.  Inside quotes, a number is no different than a letter, a symbol, or a space.\n",
    "\n",
    "#### Single and double quotes\n",
    "Strings are contained by either single or double quotes."
   ]
  },
  {
   "cell_type": "code",
   "execution_count": 7,
   "metadata": {},
   "outputs": [
    {
     "name": "stdout",
     "output_type": "stream",
     "text": [
      "This is a double-quoted string.\n",
      "This is a single-quoted string.\n"
     ]
    }
   ],
   "source": [
    "my_string = \"This is a double-quoted string.\"\n",
    "print(my_string)\n",
    "\n",
    "my_string = 'This is a single-quoted string.'\n",
    "print(my_string)\n"
   ]
  },
  {
   "cell_type": "markdown",
   "metadata": {},
   "source": [
    "You can use both single and double quotes to make strings that contain quotations.  \n",
    "\n"
   ]
  },
  {
   "cell_type": "code",
   "execution_count": 8,
   "metadata": {},
   "outputs": [
    {
     "name": "stdout",
     "output_type": "stream",
     "text": [
      "Linus Torvalds once said, \"Any program is only as good as it is useful.\"\n"
     ]
    }
   ],
   "source": [
    "quote = 'Linus Torvalds once said, \"Any program is only as good as it is useful.\"'\n",
    "\n",
    "print(quote)"
   ]
  },
  {
   "cell_type": "markdown",
   "metadata": {},
   "source": [
    "Python can also manage the case of letters in strings.  You can easily switch to all upper- or lower-case letters, and you can also opt for a \"title\" option that capitalizes only the first letter of the string."
   ]
  },
  {
   "cell_type": "code",
   "execution_count": 9,
   "metadata": {},
   "outputs": [
    {
     "name": "stdout",
     "output_type": "stream",
     "text": [
      "tRish\n",
      "Trish\n",
      "TRISH\n",
      "trish\n"
     ]
    }
   ],
   "source": [
    "first_name = 'tRish'\n",
    "\n",
    "print(first_name)\n",
    "print(first_name.title())\n",
    "print(first_name.upper())\n",
    "print(first_name.lower())\n"
   ]
  },
  {
   "cell_type": "markdown",
   "metadata": {},
   "source": [
    "The above is an example of a syntax form we will encounter quite often:\n",
    "\n",
    "**variable_name.action()**\n",
    "\n",
    "In this example, the word \"action\" is the name of a method. A method is something that can be done to a variable. The methods 'lower', 'title', and 'upper' are all functions that have been written into the Python language, which do something to strings. The parentheses may be empty, or they may contain some values. Later on, you will learn to write your own methods."
   ]
  },
  {
   "cell_type": "markdown",
   "metadata": {},
   "source": [
    "### Comments\n",
    "As you begin to write more complicated code, you will have to spend more time thinking about how to code solutions to the problems you want to solve. Once you come up with an idea, you will spend a fair amount of time troubleshooting your code, and revising your overall approach.\n",
    "\n",
    "In Python, any line that starts with a pound (#) symbol is ignored by the Python interpreter, allowing you to write a comment."
   ]
  },
  {
   "cell_type": "code",
   "execution_count": 10,
   "metadata": {},
   "outputs": [
    {
     "name": "stdout",
     "output_type": "stream",
     "text": [
      "This line is not a comment, it is code.\n"
     ]
    }
   ],
   "source": [
    "# This line is a comment.\n",
    "print(\"This line is not a comment, it is code.\")\n"
   ]
  },
  {
   "cell_type": "markdown",
   "metadata": {
    "collapsed": true
   },
   "source": [
    "## Lists\n",
    "#### Introducing Lists\n",
    "Example\n",
    "A list is a collection of items, that is stored in a variable. The items should be related in some way, but there are no restrictions on what can be stored in a list. Here is a simple example of a list, and how we can quickly access each item in the list.\n",
    "\n"
   ]
  },
  {
   "cell_type": "code",
   "execution_count": 11,
   "metadata": {},
   "outputs": [
    {
     "name": "stdout",
     "output_type": "stream",
     "text": [
      "Hello, Shannon!\n",
      "Hello, Lee!\n",
      "Hello, Frances!\n"
     ]
    }
   ],
   "source": [
    "students = ['shannon', 'lee', 'frances']\n",
    "\n",
    "for i in students:\n",
    "    print(\"Hello, \" + i.title() + \"!\")\n"
   ]
  },
  {
   "cell_type": "markdown",
   "metadata": {},
   "source": [
    "### Naming and defining a list\n",
    "Since lists are collection of objects, it is good practice to give them a plural name. If each item in your list is a car, call the list 'cars'. If each item is a dog, call your list 'dogs'. This gives you a straightforward way to refer to the entire list ('dogs'), and to a single item in the list ('dog').\n",
    "\n",
    "In Python, square brackets designate a list. To define a list, you give the name of the list, the equals sign, and the values you want to include in your list within square brackets."
   ]
  },
  {
   "cell_type": "code",
   "execution_count": 12,
   "metadata": {
    "collapsed": true
   },
   "outputs": [],
   "source": [
    "dogs = ['border collie', 'australian cattle dog', 'labrador retriever']"
   ]
  },
  {
   "cell_type": "markdown",
   "metadata": {},
   "source": [
    "### Accessing one item in a list\n",
    "Items in a list are identified by their position in the list, **starting with zero.** This will almost certainly take some adjusting.\n",
    "\n",
    "To access the first element in a list, you give the name of the list, followed by a zero in parentheses."
   ]
  },
  {
   "cell_type": "code",
   "execution_count": 13,
   "metadata": {},
   "outputs": [
    {
     "name": "stdout",
     "output_type": "stream",
     "text": [
      "['border collie', 'australian cattle dog', 'labrador retriever']\n",
      "Labrador Retriever\n"
     ]
    }
   ],
   "source": [
    "dogs = ['border collie', 'australian cattle dog', 'labrador retriever']\n",
    "print(dogs)\n",
    "dog = dogs[2]\n",
    "print(dog.title())"
   ]
  },
  {
   "cell_type": "markdown",
   "metadata": {},
   "source": [
    "The number in parentheses is called the index of the item. Because lists start at zero, the index of an item is always one less than its position in the list. So to get the second item in the list, we need to use an index of 1.\n",
    "\n"
   ]
  },
  {
   "cell_type": "markdown",
   "metadata": {},
   "source": [
    "### Accessing the last items in a list\n",
    "You can probably see that to get the last item in this list, we would use an index of 2. This works, but it would only work because our list has exactly three items. To get the last item in a list, no matter how long the list is, you can use an index of -1."
   ]
  },
  {
   "cell_type": "code",
   "execution_count": 14,
   "metadata": {},
   "outputs": [
    {
     "name": "stdout",
     "output_type": "stream",
     "text": [
      "Labrador Retriever\n"
     ]
    }
   ],
   "source": [
    "dogs = ['border collie', 'australian cattle dog', 'labrador retriever']\n",
    "\n",
    "dog = dogs[-1]\n",
    "print(dog.title())"
   ]
  },
  {
   "cell_type": "code",
   "execution_count": 15,
   "metadata": {},
   "outputs": [
    {
     "name": "stdout",
     "output_type": "stream",
     "text": [
      "Australian Cattle Dog\n"
     ]
    }
   ],
   "source": [
    "dogs = ['border collie', 'australian cattle dog', 'labrador retriever']\n",
    "\n",
    "dog = dogs[-2]\n",
    "print(dog.title())"
   ]
  },
  {
   "cell_type": "markdown",
   "metadata": {},
   "source": [
    "You can't use a negative number larger than the length of the list, however.\n",
    "\n"
   ]
  },
  {
   "cell_type": "markdown",
   "metadata": {},
   "source": [
    "##  Lists and Looping\n",
    "#### Accessing all elements in a list\n",
    "\n",
    "This is one of the most important concepts related to lists. In three lines of code, you can program an action to apply to a list with a million+ items in it!\n",
    "\n",
    "We use a loop to access all the elements in a list. A loop is a block of code that repeats itself until it runs out of items to work with, or until a certain condition is met. In this case, our loop will run once for every item in our list. With a list that is three items long, our loop will run three times.\n",
    "\n",
    "Let's take a look at how we access all the items in a list, and then try to understand how it works."
   ]
  },
  {
   "cell_type": "code",
   "execution_count": 16,
   "metadata": {},
   "outputs": [
    {
     "name": "stdout",
     "output_type": "stream",
     "text": [
      "border collie\n",
      "australian cattle dog\n",
      "labrador retriever\n"
     ]
    }
   ],
   "source": [
    "dogs = ['border collie', 'australian cattle dog', 'labrador retriever']\n",
    "\n",
    "for dog in dogs:\n",
    "   print(dog)\n",
    "    \n"
   ]
  },
  {
   "cell_type": "markdown",
   "metadata": {},
   "source": [
    "We have already seen how to create a list, so we are really just trying to understand how the last two lines work. These last two lines make up a loop, and the language here can help us see what is happening:\n",
    "\n",
    "** for dog in dogs: **\n",
    "\n",
    "- The keyword **for** tells Python to get ready to use a loop.\n",
    "- The variable *dog*, with no \"s\" on it, is a temporary placeholder variable. This is the variable that Python will place each item in the list into, one at a time.\n",
    "    + The first time through the loop, the value of \"dog\" will be 'border collie'.\n",
    "    + The second time through the loop, the value of \"dog\" will be 'australian cattle dog'.\n",
    "    + The third time through, \"dog\" will be 'labrador retriever'.\n",
    "- When there are no more items in the list, and the loop will end.\n",
    "\n",
    "The site pythontutor.com allows you to run Python code one line at a time. As you run the code, there is also a visualization on the screen that shows you how the variable \"dog\" holds different values as the loop progresses. There is also an arrow that moves around your code, showing you how some lines are run just once, while other lines are run multiple tiimes. If you would like to see this in action, click the Forward button and watch the visualization, and the output as it is printed to the screen. Tools like this are incredibly valuable for seeing what Python is doing with your code.\n",
    "\n"
   ]
  },
  {
   "cell_type": "markdown",
   "metadata": {},
   "source": [
    "## A common looping error\n",
    "One common looping error occurs when instead of using the single variable dog inside the loop, we accidentally use the variable that holds the entire list:"
   ]
  },
  {
   "cell_type": "code",
   "execution_count": 17,
   "metadata": {},
   "outputs": [
    {
     "name": "stdout",
     "output_type": "stream",
     "text": [
      "['border collie', 'australian cattle dog', 'labrador retriever']\n",
      "['border collie', 'australian cattle dog', 'labrador retriever']\n",
      "['border collie', 'australian cattle dog', 'labrador retriever']\n"
     ]
    }
   ],
   "source": [
    "dogs = ['border collie', 'australian cattle dog', 'labrador retriever']\n",
    "\n",
    "for dog in dogs:\n",
    "    print(dogs)"
   ]
  },
  {
   "cell_type": "markdown",
   "metadata": {},
   "source": [
    "In this example, instead of printing each dog in the list, we print the entire list every time we go through the loop. Python puts each individual item in the list into the variable *dog*, but we never use that variable above. Sometimes you will just get an error if you try to do this.  \n",
    "\n",
    "**There is a more general lesson here-- and it is an important point!**  If you make a coding error, you will get something other than the output you want or you might only get an error message.  However, nothing disastrous happens.  You can just edit your code until it produces the output you need. \n",
    "\n"
   ]
  },
  {
   "cell_type": "markdown",
   "metadata": {},
   "source": [
    "## If and if-else statements\n",
    "\n",
    "You might want to access items in a list that meet some condition.  One option is to include an **if statement**.  You also can pair **if** and **else**, which specifies a function to perform when the **if** condition is not met. \n",
    "\n",
    "A few examples are included below.  Admittedly, these are stylized examples, but note that they do include helpful elements of Python syntax that can be adapted to more practical applications.  Indeed, **if** and **else** statements are powerful coding tools with many applications.\n"
   ]
  },
  {
   "cell_type": "markdown",
   "metadata": {},
   "source": [
    "Let's say, for example, we wanted to add descriptive information about the dogs in our list, but the information varies depending on the breed."
   ]
  },
  {
   "cell_type": "code",
   "execution_count": 18,
   "metadata": {
    "scrolled": true
   },
   "outputs": [
    {
     "name": "stdout",
     "output_type": "stream",
     "text": [
      "The Australian Cattle Dog is a medium-sized dog.\n"
     ]
    }
   ],
   "source": [
    "for dog in dogs:\n",
    "    if dog == 'australian cattle dog':\n",
    "        print('The ' + dog.title() + ' is a medium-sized dog.')\n",
    "        "
   ]
  },
  {
   "cell_type": "code",
   "execution_count": 19,
   "metadata": {},
   "outputs": [
    {
     "name": "stdout",
     "output_type": "stream",
     "text": [
      "The Border Collie is a large dog.\n",
      "The Australian Cattle Dog is a medium-sized dog.\n",
      "The Labrador Retriever is a large dog.\n"
     ]
    }
   ],
   "source": [
    "for dog in dogs:\n",
    "    if dog == 'australian cattle dog':\n",
    "        print('The ' + dog.title() + ' is a medium-sized dog.')\n",
    "    else:\n",
    "        print('The ' + dog.title() + ' is a large dog.')"
   ]
  },
  {
   "cell_type": "markdown",
   "metadata": {},
   "source": [
    "The example below incorporates numeric values as well as strings.  Here, we define a list of numbers called \"weekly_hours\" which contains the number of hours a person worked each week over 8 weeks.  For each element (\"week\") in \"weekly_hours\", we check to see if the number of hours is less than or equal to 40 and specify the action when the condition is met and when the condition is not met."
   ]
  },
  {
   "cell_type": "code",
   "execution_count": 20,
   "metadata": {},
   "outputs": [
    {
     "name": "stdout",
     "output_type": "stream",
     "text": [
      "Regular Hours = 34\n",
      "Overtime hours = 0\n",
      "------------------------\n",
      "Regular Hours = 25\n",
      "Overtime hours = 0\n",
      "------------------------\n",
      "Regular Hours = 40\n",
      "Overtime hours = 8\n",
      "------------------------\n",
      "Regular Hours = 40\n",
      "Overtime hours = 0\n",
      "------------------------\n",
      "Regular Hours = 40\n",
      "Overtime hours = 12\n",
      "------------------------\n",
      "Regular Hours = 40\n",
      "Overtime hours = 10\n",
      "------------------------\n",
      "Regular Hours = 28\n",
      "Overtime hours = 0\n",
      "------------------------\n",
      "Regular Hours = 32\n",
      "Overtime hours = 0\n",
      "------------------------\n"
     ]
    }
   ],
   "source": [
    "weekly_hours = [34, 25, 48, 40, 52, 50, 28, 32]\n",
    "\n",
    "for week in weekly_hours:\n",
    "    if week <= 40:\n",
    "        print('Regular Hours =', week)\n",
    "        print('Overtime hours =',  0)\n",
    "        print('------------------------')\n",
    "    else: \n",
    "        print('Regular Hours =', 40)\n",
    "        print('Overtime hours =', week - 40)\n",
    "        print('------------------------')\n"
   ]
  },
  {
   "cell_type": "markdown",
   "metadata": {},
   "source": [
    "### For more information on **for** loops, **while** loops, **if** statements, and **else** statements, introtopython.org is a great starting point."
   ]
  },
  {
   "cell_type": "markdown",
   "metadata": {},
   "source": [
    "## Importing Libraries\n",
    "\n",
    "\n",
    "What's great about Python are its open source libraries, which are sets of tools created by other python programmers that allow you to do different things. Some major python packages such as **matplotlib** and **numpy** will be essential to work visualizing your data and analysis.  We will also use the **pandas** and **statsmodels** packages for data analysis, and there are many more libraries for handling a variety of tasks\n",
    "\n",
    "To access libraries, you must import them, using the following syntax. You can import an entire library:\n"
   ]
  },
  {
   "cell_type": "code",
   "execution_count": 21,
   "metadata": {
    "collapsed": true
   },
   "outputs": [],
   "source": [
    "import numpy as np\n"
   ]
  },
  {
   "cell_type": "markdown",
   "metadata": {},
   "source": [
    "In this case we can now access all functions and tools available in the numpy library, using the shorthand 'np'. This is common practice in the data science community, making it faster to access numpy functions.\n",
    "\n",
    "We can also import individual modules or sets of functions:"
   ]
  },
  {
   "cell_type": "code",
   "execution_count": 22,
   "metadata": {
    "collapsed": true
   },
   "outputs": [],
   "source": [
    "import matplotlib.pyplot as plt\n"
   ]
  },
  {
   "cell_type": "markdown",
   "metadata": {},
   "source": [
    "Importing pyplot from matplotlib allows us to using plotting functions now, with the shorthand 'plt'\n",
    "\n",
    "It is good habit to import these popular functions at the start of a new notebook so you can begin using them seamlessly."
   ]
  },
  {
   "cell_type": "markdown",
   "metadata": {},
   "source": [
    "## Working with Data\n",
    "\n",
    "### Importing data\n",
    "\n",
    "Python allows you to import a dataset from a .csv or spreadsheet, to be used for anaylysis or visualization. In this case we will import, analyze, and plot data from the course evaluations dataset. \n",
    "\n",
    "We can first load the **pandas** library, which allows us to store data in a format that we can use and save, then we will access the data."
   ]
  },
  {
   "cell_type": "code",
   "execution_count": 23,
   "metadata": {},
   "outputs": [
    {
     "name": "stdout",
     "output_type": "stream",
     "text": [
      "     minority  age  female  onecredit    beauty  course_eval  intro  nnenglish\n",
      "0           1   36       1          0  0.289916          4.3      0          0\n",
      "1           0   59       0          0 -0.737732          4.5      0          0\n",
      "2           0   51       0          0 -0.571984          3.7      0          0\n",
      "3           0   40       1          0 -0.677963          4.3      0          0\n",
      "4           0   31       1          0  1.509794          4.4      0          0\n",
      "5           0   62       0          0  0.588569          4.2      0          0\n",
      "6           0   33       1          0 -0.126001          4.0      0          0\n",
      "7           0   51       1          0 -0.258190          3.4      0          0\n",
      "8           0   33       1          0  0.149693          4.5      0          0\n",
      "9           0   47       0          0  0.540917          3.9      0          0\n",
      "10          1   35       0          0  0.231613          3.1      0          1\n",
      "11          0   37       0          0 -0.066674          4.0      0          0\n",
      "12          0   42       0          0  0.216892          3.8      0          0\n",
      "13          0   49       0          0 -0.258696          3.4      0          1\n",
      "14          0   37       1          0  0.550288          2.9      0          0\n",
      "15          0   45       0          0 -0.062036          4.5      0          0\n",
      "16          0   56       1          0 -0.982385          4.0      0          0\n",
      "17          0   48       0          0 -0.054344          3.8      1          0\n",
      "18          0   46       1          0 -0.068014          4.3      0          0\n",
      "19          0   57       1          0  0.029414          3.4      0          0\n",
      "20          0   52       1          0  0.239486          3.4      0          0\n",
      "21          1   29       1          0 -0.848727          3.3      0          1\n",
      "22          0   62       0          0 -0.733091          4.3      0          0\n",
      "23          0   64       0          0 -0.111122          4.4      0          0\n",
      "24          0   34       1          0  1.775517          4.6      0          0\n",
      "25          0   58       0          0 -0.321849          4.2      0          0\n",
      "26          1   52       0          0  0.211694          4.0      0          1\n",
      "27          0   73       0          0 -0.717645          3.3      0          0\n",
      "28          0   70       0          0 -0.732693          4.4      0          0\n",
      "29          0   41       1          0  0.408168          2.3      0          0\n",
      "..        ...  ...     ...        ...       ...          ...    ...        ...\n",
      "433         0   58       0          0  1.774334          4.6      1          0\n",
      "434         0   58       0          0  1.774334          4.9      1          0\n",
      "435         0   42       0          0  1.773151          4.0      1          0\n",
      "436         0   42       0          0  1.773151          3.9      0          0\n",
      "437         0   33       0          0  0.724593          4.1      1          0\n",
      "438         0   62       0          0 -1.181626          2.9      1          0\n",
      "439         0   62       0          0 -1.181626          2.8      1          0\n",
      "440         0   62       0          0 -1.181626          2.8      1          0\n",
      "441         0   62       0          0 -1.181626          4.0      0          0\n",
      "442         0   62       0          0 -1.181626          3.3      1          0\n",
      "443         0   62       0          0 -1.181626          3.0      1          0\n",
      "444         1   35       1          0  1.769452          3.6      1          0\n",
      "445         1   35       1          0  1.769452          3.8      1          0\n",
      "446         0   61       0          0 -0.587261          3.9      1          0\n",
      "447         0   52       1          0 -0.001832          4.7      1          0\n",
      "448         0   52       1          0 -0.001832          4.7      1          0\n",
      "449         0   60       1          0 -0.056677          3.9      0          1\n",
      "450         0   60       1          0 -0.056677          4.4      0          1\n",
      "451         0   60       1          0 -0.056677          3.6      0          1\n",
      "452         0   60       1          0 -0.056677          4.2      0          1\n",
      "453         0   60       1          0 -0.056677          3.4      0          1\n",
      "454         0   60       1          0 -0.056677          4.0      0          1\n",
      "455         0   32       0          0  1.231394          4.2      1          0\n",
      "456         0   32       0          0  1.231394          4.4      0          0\n",
      "457         0   32       0          0  1.231394          4.5      1          0\n",
      "458         0   32       0          0  1.231394          3.2      1          0\n",
      "459         0   32       0          0  1.231394          4.3      0          0\n",
      "460         1   42       1          0  0.420400          3.3      0          1\n",
      "461         1   42       1          0  0.420400          3.2      0          1\n",
      "462         1   42       1          1  0.420400          4.1      1          1\n",
      "\n",
      "[463 rows x 8 columns]\n"
     ]
    }
   ],
   "source": [
    "import pandas as pd\n",
    "\n",
    "print(pd.read_csv('teachingratingsexcel.csv'))\n"
   ]
  },
  {
   "cell_type": "markdown",
   "metadata": {},
   "source": [
    "As you can see we have a dataset with 8 columns and 463 rows. While we loaded it, we have not saved it to an object or variable, so we can't actually do much yet. In order to save the file in our Python environment we can assign it to an object-- a data frame.\n",
    "\n"
   ]
  },
  {
   "cell_type": "code",
   "execution_count": 24,
   "metadata": {},
   "outputs": [
    {
     "data": {
      "text/html": [
       "<div>\n",
       "<style>\n",
       "    .dataframe thead tr:only-child th {\n",
       "        text-align: right;\n",
       "    }\n",
       "\n",
       "    .dataframe thead th {\n",
       "        text-align: left;\n",
       "    }\n",
       "\n",
       "    .dataframe tbody tr th {\n",
       "        vertical-align: top;\n",
       "    }\n",
       "</style>\n",
       "<table border=\"1\" class=\"dataframe\">\n",
       "  <thead>\n",
       "    <tr style=\"text-align: right;\">\n",
       "      <th></th>\n",
       "      <th>minority</th>\n",
       "      <th>age</th>\n",
       "      <th>female</th>\n",
       "      <th>onecredit</th>\n",
       "      <th>beauty</th>\n",
       "      <th>course_eval</th>\n",
       "      <th>intro</th>\n",
       "      <th>nnenglish</th>\n",
       "    </tr>\n",
       "  </thead>\n",
       "  <tbody>\n",
       "    <tr>\n",
       "      <th>0</th>\n",
       "      <td>1</td>\n",
       "      <td>36</td>\n",
       "      <td>1</td>\n",
       "      <td>0</td>\n",
       "      <td>0.289916</td>\n",
       "      <td>4.3</td>\n",
       "      <td>0</td>\n",
       "      <td>0</td>\n",
       "    </tr>\n",
       "    <tr>\n",
       "      <th>1</th>\n",
       "      <td>0</td>\n",
       "      <td>59</td>\n",
       "      <td>0</td>\n",
       "      <td>0</td>\n",
       "      <td>-0.737732</td>\n",
       "      <td>4.5</td>\n",
       "      <td>0</td>\n",
       "      <td>0</td>\n",
       "    </tr>\n",
       "    <tr>\n",
       "      <th>2</th>\n",
       "      <td>0</td>\n",
       "      <td>51</td>\n",
       "      <td>0</td>\n",
       "      <td>0</td>\n",
       "      <td>-0.571984</td>\n",
       "      <td>3.7</td>\n",
       "      <td>0</td>\n",
       "      <td>0</td>\n",
       "    </tr>\n",
       "    <tr>\n",
       "      <th>3</th>\n",
       "      <td>0</td>\n",
       "      <td>40</td>\n",
       "      <td>1</td>\n",
       "      <td>0</td>\n",
       "      <td>-0.677963</td>\n",
       "      <td>4.3</td>\n",
       "      <td>0</td>\n",
       "      <td>0</td>\n",
       "    </tr>\n",
       "    <tr>\n",
       "      <th>4</th>\n",
       "      <td>0</td>\n",
       "      <td>31</td>\n",
       "      <td>1</td>\n",
       "      <td>0</td>\n",
       "      <td>1.509794</td>\n",
       "      <td>4.4</td>\n",
       "      <td>0</td>\n",
       "      <td>0</td>\n",
       "    </tr>\n",
       "    <tr>\n",
       "      <th>5</th>\n",
       "      <td>0</td>\n",
       "      <td>62</td>\n",
       "      <td>0</td>\n",
       "      <td>0</td>\n",
       "      <td>0.588569</td>\n",
       "      <td>4.2</td>\n",
       "      <td>0</td>\n",
       "      <td>0</td>\n",
       "    </tr>\n",
       "    <tr>\n",
       "      <th>6</th>\n",
       "      <td>0</td>\n",
       "      <td>33</td>\n",
       "      <td>1</td>\n",
       "      <td>0</td>\n",
       "      <td>-0.126001</td>\n",
       "      <td>4.0</td>\n",
       "      <td>0</td>\n",
       "      <td>0</td>\n",
       "    </tr>\n",
       "    <tr>\n",
       "      <th>7</th>\n",
       "      <td>0</td>\n",
       "      <td>51</td>\n",
       "      <td>1</td>\n",
       "      <td>0</td>\n",
       "      <td>-0.258190</td>\n",
       "      <td>3.4</td>\n",
       "      <td>0</td>\n",
       "      <td>0</td>\n",
       "    </tr>\n",
       "    <tr>\n",
       "      <th>8</th>\n",
       "      <td>0</td>\n",
       "      <td>33</td>\n",
       "      <td>1</td>\n",
       "      <td>0</td>\n",
       "      <td>0.149693</td>\n",
       "      <td>4.5</td>\n",
       "      <td>0</td>\n",
       "      <td>0</td>\n",
       "    </tr>\n",
       "    <tr>\n",
       "      <th>9</th>\n",
       "      <td>0</td>\n",
       "      <td>47</td>\n",
       "      <td>0</td>\n",
       "      <td>0</td>\n",
       "      <td>0.540917</td>\n",
       "      <td>3.9</td>\n",
       "      <td>0</td>\n",
       "      <td>0</td>\n",
       "    </tr>\n",
       "    <tr>\n",
       "      <th>10</th>\n",
       "      <td>1</td>\n",
       "      <td>35</td>\n",
       "      <td>0</td>\n",
       "      <td>0</td>\n",
       "      <td>0.231613</td>\n",
       "      <td>3.1</td>\n",
       "      <td>0</td>\n",
       "      <td>1</td>\n",
       "    </tr>\n",
       "    <tr>\n",
       "      <th>11</th>\n",
       "      <td>0</td>\n",
       "      <td>37</td>\n",
       "      <td>0</td>\n",
       "      <td>0</td>\n",
       "      <td>-0.066674</td>\n",
       "      <td>4.0</td>\n",
       "      <td>0</td>\n",
       "      <td>0</td>\n",
       "    </tr>\n",
       "    <tr>\n",
       "      <th>12</th>\n",
       "      <td>0</td>\n",
       "      <td>42</td>\n",
       "      <td>0</td>\n",
       "      <td>0</td>\n",
       "      <td>0.216892</td>\n",
       "      <td>3.8</td>\n",
       "      <td>0</td>\n",
       "      <td>0</td>\n",
       "    </tr>\n",
       "    <tr>\n",
       "      <th>13</th>\n",
       "      <td>0</td>\n",
       "      <td>49</td>\n",
       "      <td>0</td>\n",
       "      <td>0</td>\n",
       "      <td>-0.258696</td>\n",
       "      <td>3.4</td>\n",
       "      <td>0</td>\n",
       "      <td>1</td>\n",
       "    </tr>\n",
       "    <tr>\n",
       "      <th>14</th>\n",
       "      <td>0</td>\n",
       "      <td>37</td>\n",
       "      <td>1</td>\n",
       "      <td>0</td>\n",
       "      <td>0.550288</td>\n",
       "      <td>2.9</td>\n",
       "      <td>0</td>\n",
       "      <td>0</td>\n",
       "    </tr>\n",
       "    <tr>\n",
       "      <th>15</th>\n",
       "      <td>0</td>\n",
       "      <td>45</td>\n",
       "      <td>0</td>\n",
       "      <td>0</td>\n",
       "      <td>-0.062036</td>\n",
       "      <td>4.5</td>\n",
       "      <td>0</td>\n",
       "      <td>0</td>\n",
       "    </tr>\n",
       "    <tr>\n",
       "      <th>16</th>\n",
       "      <td>0</td>\n",
       "      <td>56</td>\n",
       "      <td>1</td>\n",
       "      <td>0</td>\n",
       "      <td>-0.982385</td>\n",
       "      <td>4.0</td>\n",
       "      <td>0</td>\n",
       "      <td>0</td>\n",
       "    </tr>\n",
       "    <tr>\n",
       "      <th>17</th>\n",
       "      <td>0</td>\n",
       "      <td>48</td>\n",
       "      <td>0</td>\n",
       "      <td>0</td>\n",
       "      <td>-0.054344</td>\n",
       "      <td>3.8</td>\n",
       "      <td>1</td>\n",
       "      <td>0</td>\n",
       "    </tr>\n",
       "    <tr>\n",
       "      <th>18</th>\n",
       "      <td>0</td>\n",
       "      <td>46</td>\n",
       "      <td>1</td>\n",
       "      <td>0</td>\n",
       "      <td>-0.068014</td>\n",
       "      <td>4.3</td>\n",
       "      <td>0</td>\n",
       "      <td>0</td>\n",
       "    </tr>\n",
       "    <tr>\n",
       "      <th>19</th>\n",
       "      <td>0</td>\n",
       "      <td>57</td>\n",
       "      <td>1</td>\n",
       "      <td>0</td>\n",
       "      <td>0.029414</td>\n",
       "      <td>3.4</td>\n",
       "      <td>0</td>\n",
       "      <td>0</td>\n",
       "    </tr>\n",
       "    <tr>\n",
       "      <th>20</th>\n",
       "      <td>0</td>\n",
       "      <td>52</td>\n",
       "      <td>1</td>\n",
       "      <td>0</td>\n",
       "      <td>0.239486</td>\n",
       "      <td>3.4</td>\n",
       "      <td>0</td>\n",
       "      <td>0</td>\n",
       "    </tr>\n",
       "    <tr>\n",
       "      <th>21</th>\n",
       "      <td>1</td>\n",
       "      <td>29</td>\n",
       "      <td>1</td>\n",
       "      <td>0</td>\n",
       "      <td>-0.848727</td>\n",
       "      <td>3.3</td>\n",
       "      <td>0</td>\n",
       "      <td>1</td>\n",
       "    </tr>\n",
       "    <tr>\n",
       "      <th>22</th>\n",
       "      <td>0</td>\n",
       "      <td>62</td>\n",
       "      <td>0</td>\n",
       "      <td>0</td>\n",
       "      <td>-0.733091</td>\n",
       "      <td>4.3</td>\n",
       "      <td>0</td>\n",
       "      <td>0</td>\n",
       "    </tr>\n",
       "    <tr>\n",
       "      <th>23</th>\n",
       "      <td>0</td>\n",
       "      <td>64</td>\n",
       "      <td>0</td>\n",
       "      <td>0</td>\n",
       "      <td>-0.111122</td>\n",
       "      <td>4.4</td>\n",
       "      <td>0</td>\n",
       "      <td>0</td>\n",
       "    </tr>\n",
       "    <tr>\n",
       "      <th>24</th>\n",
       "      <td>0</td>\n",
       "      <td>34</td>\n",
       "      <td>1</td>\n",
       "      <td>0</td>\n",
       "      <td>1.775517</td>\n",
       "      <td>4.6</td>\n",
       "      <td>0</td>\n",
       "      <td>0</td>\n",
       "    </tr>\n",
       "    <tr>\n",
       "      <th>25</th>\n",
       "      <td>0</td>\n",
       "      <td>58</td>\n",
       "      <td>0</td>\n",
       "      <td>0</td>\n",
       "      <td>-0.321849</td>\n",
       "      <td>4.2</td>\n",
       "      <td>0</td>\n",
       "      <td>0</td>\n",
       "    </tr>\n",
       "    <tr>\n",
       "      <th>26</th>\n",
       "      <td>1</td>\n",
       "      <td>52</td>\n",
       "      <td>0</td>\n",
       "      <td>0</td>\n",
       "      <td>0.211694</td>\n",
       "      <td>4.0</td>\n",
       "      <td>0</td>\n",
       "      <td>1</td>\n",
       "    </tr>\n",
       "    <tr>\n",
       "      <th>27</th>\n",
       "      <td>0</td>\n",
       "      <td>73</td>\n",
       "      <td>0</td>\n",
       "      <td>0</td>\n",
       "      <td>-0.717645</td>\n",
       "      <td>3.3</td>\n",
       "      <td>0</td>\n",
       "      <td>0</td>\n",
       "    </tr>\n",
       "    <tr>\n",
       "      <th>28</th>\n",
       "      <td>0</td>\n",
       "      <td>70</td>\n",
       "      <td>0</td>\n",
       "      <td>0</td>\n",
       "      <td>-0.732693</td>\n",
       "      <td>4.4</td>\n",
       "      <td>0</td>\n",
       "      <td>0</td>\n",
       "    </tr>\n",
       "    <tr>\n",
       "      <th>29</th>\n",
       "      <td>0</td>\n",
       "      <td>41</td>\n",
       "      <td>1</td>\n",
       "      <td>0</td>\n",
       "      <td>0.408168</td>\n",
       "      <td>2.3</td>\n",
       "      <td>0</td>\n",
       "      <td>0</td>\n",
       "    </tr>\n",
       "    <tr>\n",
       "      <th>...</th>\n",
       "      <td>...</td>\n",
       "      <td>...</td>\n",
       "      <td>...</td>\n",
       "      <td>...</td>\n",
       "      <td>...</td>\n",
       "      <td>...</td>\n",
       "      <td>...</td>\n",
       "      <td>...</td>\n",
       "    </tr>\n",
       "    <tr>\n",
       "      <th>433</th>\n",
       "      <td>0</td>\n",
       "      <td>58</td>\n",
       "      <td>0</td>\n",
       "      <td>0</td>\n",
       "      <td>1.774334</td>\n",
       "      <td>4.6</td>\n",
       "      <td>1</td>\n",
       "      <td>0</td>\n",
       "    </tr>\n",
       "    <tr>\n",
       "      <th>434</th>\n",
       "      <td>0</td>\n",
       "      <td>58</td>\n",
       "      <td>0</td>\n",
       "      <td>0</td>\n",
       "      <td>1.774334</td>\n",
       "      <td>4.9</td>\n",
       "      <td>1</td>\n",
       "      <td>0</td>\n",
       "    </tr>\n",
       "    <tr>\n",
       "      <th>435</th>\n",
       "      <td>0</td>\n",
       "      <td>42</td>\n",
       "      <td>0</td>\n",
       "      <td>0</td>\n",
       "      <td>1.773151</td>\n",
       "      <td>4.0</td>\n",
       "      <td>1</td>\n",
       "      <td>0</td>\n",
       "    </tr>\n",
       "    <tr>\n",
       "      <th>436</th>\n",
       "      <td>0</td>\n",
       "      <td>42</td>\n",
       "      <td>0</td>\n",
       "      <td>0</td>\n",
       "      <td>1.773151</td>\n",
       "      <td>3.9</td>\n",
       "      <td>0</td>\n",
       "      <td>0</td>\n",
       "    </tr>\n",
       "    <tr>\n",
       "      <th>437</th>\n",
       "      <td>0</td>\n",
       "      <td>33</td>\n",
       "      <td>0</td>\n",
       "      <td>0</td>\n",
       "      <td>0.724593</td>\n",
       "      <td>4.1</td>\n",
       "      <td>1</td>\n",
       "      <td>0</td>\n",
       "    </tr>\n",
       "    <tr>\n",
       "      <th>438</th>\n",
       "      <td>0</td>\n",
       "      <td>62</td>\n",
       "      <td>0</td>\n",
       "      <td>0</td>\n",
       "      <td>-1.181626</td>\n",
       "      <td>2.9</td>\n",
       "      <td>1</td>\n",
       "      <td>0</td>\n",
       "    </tr>\n",
       "    <tr>\n",
       "      <th>439</th>\n",
       "      <td>0</td>\n",
       "      <td>62</td>\n",
       "      <td>0</td>\n",
       "      <td>0</td>\n",
       "      <td>-1.181626</td>\n",
       "      <td>2.8</td>\n",
       "      <td>1</td>\n",
       "      <td>0</td>\n",
       "    </tr>\n",
       "    <tr>\n",
       "      <th>440</th>\n",
       "      <td>0</td>\n",
       "      <td>62</td>\n",
       "      <td>0</td>\n",
       "      <td>0</td>\n",
       "      <td>-1.181626</td>\n",
       "      <td>2.8</td>\n",
       "      <td>1</td>\n",
       "      <td>0</td>\n",
       "    </tr>\n",
       "    <tr>\n",
       "      <th>441</th>\n",
       "      <td>0</td>\n",
       "      <td>62</td>\n",
       "      <td>0</td>\n",
       "      <td>0</td>\n",
       "      <td>-1.181626</td>\n",
       "      <td>4.0</td>\n",
       "      <td>0</td>\n",
       "      <td>0</td>\n",
       "    </tr>\n",
       "    <tr>\n",
       "      <th>442</th>\n",
       "      <td>0</td>\n",
       "      <td>62</td>\n",
       "      <td>0</td>\n",
       "      <td>0</td>\n",
       "      <td>-1.181626</td>\n",
       "      <td>3.3</td>\n",
       "      <td>1</td>\n",
       "      <td>0</td>\n",
       "    </tr>\n",
       "    <tr>\n",
       "      <th>443</th>\n",
       "      <td>0</td>\n",
       "      <td>62</td>\n",
       "      <td>0</td>\n",
       "      <td>0</td>\n",
       "      <td>-1.181626</td>\n",
       "      <td>3.0</td>\n",
       "      <td>1</td>\n",
       "      <td>0</td>\n",
       "    </tr>\n",
       "    <tr>\n",
       "      <th>444</th>\n",
       "      <td>1</td>\n",
       "      <td>35</td>\n",
       "      <td>1</td>\n",
       "      <td>0</td>\n",
       "      <td>1.769452</td>\n",
       "      <td>3.6</td>\n",
       "      <td>1</td>\n",
       "      <td>0</td>\n",
       "    </tr>\n",
       "    <tr>\n",
       "      <th>445</th>\n",
       "      <td>1</td>\n",
       "      <td>35</td>\n",
       "      <td>1</td>\n",
       "      <td>0</td>\n",
       "      <td>1.769452</td>\n",
       "      <td>3.8</td>\n",
       "      <td>1</td>\n",
       "      <td>0</td>\n",
       "    </tr>\n",
       "    <tr>\n",
       "      <th>446</th>\n",
       "      <td>0</td>\n",
       "      <td>61</td>\n",
       "      <td>0</td>\n",
       "      <td>0</td>\n",
       "      <td>-0.587261</td>\n",
       "      <td>3.9</td>\n",
       "      <td>1</td>\n",
       "      <td>0</td>\n",
       "    </tr>\n",
       "    <tr>\n",
       "      <th>447</th>\n",
       "      <td>0</td>\n",
       "      <td>52</td>\n",
       "      <td>1</td>\n",
       "      <td>0</td>\n",
       "      <td>-0.001832</td>\n",
       "      <td>4.7</td>\n",
       "      <td>1</td>\n",
       "      <td>0</td>\n",
       "    </tr>\n",
       "    <tr>\n",
       "      <th>448</th>\n",
       "      <td>0</td>\n",
       "      <td>52</td>\n",
       "      <td>1</td>\n",
       "      <td>0</td>\n",
       "      <td>-0.001832</td>\n",
       "      <td>4.7</td>\n",
       "      <td>1</td>\n",
       "      <td>0</td>\n",
       "    </tr>\n",
       "    <tr>\n",
       "      <th>449</th>\n",
       "      <td>0</td>\n",
       "      <td>60</td>\n",
       "      <td>1</td>\n",
       "      <td>0</td>\n",
       "      <td>-0.056677</td>\n",
       "      <td>3.9</td>\n",
       "      <td>0</td>\n",
       "      <td>1</td>\n",
       "    </tr>\n",
       "    <tr>\n",
       "      <th>450</th>\n",
       "      <td>0</td>\n",
       "      <td>60</td>\n",
       "      <td>1</td>\n",
       "      <td>0</td>\n",
       "      <td>-0.056677</td>\n",
       "      <td>4.4</td>\n",
       "      <td>0</td>\n",
       "      <td>1</td>\n",
       "    </tr>\n",
       "    <tr>\n",
       "      <th>451</th>\n",
       "      <td>0</td>\n",
       "      <td>60</td>\n",
       "      <td>1</td>\n",
       "      <td>0</td>\n",
       "      <td>-0.056677</td>\n",
       "      <td>3.6</td>\n",
       "      <td>0</td>\n",
       "      <td>1</td>\n",
       "    </tr>\n",
       "    <tr>\n",
       "      <th>452</th>\n",
       "      <td>0</td>\n",
       "      <td>60</td>\n",
       "      <td>1</td>\n",
       "      <td>0</td>\n",
       "      <td>-0.056677</td>\n",
       "      <td>4.2</td>\n",
       "      <td>0</td>\n",
       "      <td>1</td>\n",
       "    </tr>\n",
       "    <tr>\n",
       "      <th>453</th>\n",
       "      <td>0</td>\n",
       "      <td>60</td>\n",
       "      <td>1</td>\n",
       "      <td>0</td>\n",
       "      <td>-0.056677</td>\n",
       "      <td>3.4</td>\n",
       "      <td>0</td>\n",
       "      <td>1</td>\n",
       "    </tr>\n",
       "    <tr>\n",
       "      <th>454</th>\n",
       "      <td>0</td>\n",
       "      <td>60</td>\n",
       "      <td>1</td>\n",
       "      <td>0</td>\n",
       "      <td>-0.056677</td>\n",
       "      <td>4.0</td>\n",
       "      <td>0</td>\n",
       "      <td>1</td>\n",
       "    </tr>\n",
       "    <tr>\n",
       "      <th>455</th>\n",
       "      <td>0</td>\n",
       "      <td>32</td>\n",
       "      <td>0</td>\n",
       "      <td>0</td>\n",
       "      <td>1.231394</td>\n",
       "      <td>4.2</td>\n",
       "      <td>1</td>\n",
       "      <td>0</td>\n",
       "    </tr>\n",
       "    <tr>\n",
       "      <th>456</th>\n",
       "      <td>0</td>\n",
       "      <td>32</td>\n",
       "      <td>0</td>\n",
       "      <td>0</td>\n",
       "      <td>1.231394</td>\n",
       "      <td>4.4</td>\n",
       "      <td>0</td>\n",
       "      <td>0</td>\n",
       "    </tr>\n",
       "    <tr>\n",
       "      <th>457</th>\n",
       "      <td>0</td>\n",
       "      <td>32</td>\n",
       "      <td>0</td>\n",
       "      <td>0</td>\n",
       "      <td>1.231394</td>\n",
       "      <td>4.5</td>\n",
       "      <td>1</td>\n",
       "      <td>0</td>\n",
       "    </tr>\n",
       "    <tr>\n",
       "      <th>458</th>\n",
       "      <td>0</td>\n",
       "      <td>32</td>\n",
       "      <td>0</td>\n",
       "      <td>0</td>\n",
       "      <td>1.231394</td>\n",
       "      <td>3.2</td>\n",
       "      <td>1</td>\n",
       "      <td>0</td>\n",
       "    </tr>\n",
       "    <tr>\n",
       "      <th>459</th>\n",
       "      <td>0</td>\n",
       "      <td>32</td>\n",
       "      <td>0</td>\n",
       "      <td>0</td>\n",
       "      <td>1.231394</td>\n",
       "      <td>4.3</td>\n",
       "      <td>0</td>\n",
       "      <td>0</td>\n",
       "    </tr>\n",
       "    <tr>\n",
       "      <th>460</th>\n",
       "      <td>1</td>\n",
       "      <td>42</td>\n",
       "      <td>1</td>\n",
       "      <td>0</td>\n",
       "      <td>0.420400</td>\n",
       "      <td>3.3</td>\n",
       "      <td>0</td>\n",
       "      <td>1</td>\n",
       "    </tr>\n",
       "    <tr>\n",
       "      <th>461</th>\n",
       "      <td>1</td>\n",
       "      <td>42</td>\n",
       "      <td>1</td>\n",
       "      <td>0</td>\n",
       "      <td>0.420400</td>\n",
       "      <td>3.2</td>\n",
       "      <td>0</td>\n",
       "      <td>1</td>\n",
       "    </tr>\n",
       "    <tr>\n",
       "      <th>462</th>\n",
       "      <td>1</td>\n",
       "      <td>42</td>\n",
       "      <td>1</td>\n",
       "      <td>1</td>\n",
       "      <td>0.420400</td>\n",
       "      <td>4.1</td>\n",
       "      <td>1</td>\n",
       "      <td>1</td>\n",
       "    </tr>\n",
       "  </tbody>\n",
       "</table>\n",
       "<p>463 rows × 8 columns</p>\n",
       "</div>"
      ],
      "text/plain": [
       "     minority  age  female  onecredit    beauty  course_eval  intro  nnenglish\n",
       "0           1   36       1          0  0.289916          4.3      0          0\n",
       "1           0   59       0          0 -0.737732          4.5      0          0\n",
       "2           0   51       0          0 -0.571984          3.7      0          0\n",
       "3           0   40       1          0 -0.677963          4.3      0          0\n",
       "4           0   31       1          0  1.509794          4.4      0          0\n",
       "5           0   62       0          0  0.588569          4.2      0          0\n",
       "6           0   33       1          0 -0.126001          4.0      0          0\n",
       "7           0   51       1          0 -0.258190          3.4      0          0\n",
       "8           0   33       1          0  0.149693          4.5      0          0\n",
       "9           0   47       0          0  0.540917          3.9      0          0\n",
       "10          1   35       0          0  0.231613          3.1      0          1\n",
       "11          0   37       0          0 -0.066674          4.0      0          0\n",
       "12          0   42       0          0  0.216892          3.8      0          0\n",
       "13          0   49       0          0 -0.258696          3.4      0          1\n",
       "14          0   37       1          0  0.550288          2.9      0          0\n",
       "15          0   45       0          0 -0.062036          4.5      0          0\n",
       "16          0   56       1          0 -0.982385          4.0      0          0\n",
       "17          0   48       0          0 -0.054344          3.8      1          0\n",
       "18          0   46       1          0 -0.068014          4.3      0          0\n",
       "19          0   57       1          0  0.029414          3.4      0          0\n",
       "20          0   52       1          0  0.239486          3.4      0          0\n",
       "21          1   29       1          0 -0.848727          3.3      0          1\n",
       "22          0   62       0          0 -0.733091          4.3      0          0\n",
       "23          0   64       0          0 -0.111122          4.4      0          0\n",
       "24          0   34       1          0  1.775517          4.6      0          0\n",
       "25          0   58       0          0 -0.321849          4.2      0          0\n",
       "26          1   52       0          0  0.211694          4.0      0          1\n",
       "27          0   73       0          0 -0.717645          3.3      0          0\n",
       "28          0   70       0          0 -0.732693          4.4      0          0\n",
       "29          0   41       1          0  0.408168          2.3      0          0\n",
       "..        ...  ...     ...        ...       ...          ...    ...        ...\n",
       "433         0   58       0          0  1.774334          4.6      1          0\n",
       "434         0   58       0          0  1.774334          4.9      1          0\n",
       "435         0   42       0          0  1.773151          4.0      1          0\n",
       "436         0   42       0          0  1.773151          3.9      0          0\n",
       "437         0   33       0          0  0.724593          4.1      1          0\n",
       "438         0   62       0          0 -1.181626          2.9      1          0\n",
       "439         0   62       0          0 -1.181626          2.8      1          0\n",
       "440         0   62       0          0 -1.181626          2.8      1          0\n",
       "441         0   62       0          0 -1.181626          4.0      0          0\n",
       "442         0   62       0          0 -1.181626          3.3      1          0\n",
       "443         0   62       0          0 -1.181626          3.0      1          0\n",
       "444         1   35       1          0  1.769452          3.6      1          0\n",
       "445         1   35       1          0  1.769452          3.8      1          0\n",
       "446         0   61       0          0 -0.587261          3.9      1          0\n",
       "447         0   52       1          0 -0.001832          4.7      1          0\n",
       "448         0   52       1          0 -0.001832          4.7      1          0\n",
       "449         0   60       1          0 -0.056677          3.9      0          1\n",
       "450         0   60       1          0 -0.056677          4.4      0          1\n",
       "451         0   60       1          0 -0.056677          3.6      0          1\n",
       "452         0   60       1          0 -0.056677          4.2      0          1\n",
       "453         0   60       1          0 -0.056677          3.4      0          1\n",
       "454         0   60       1          0 -0.056677          4.0      0          1\n",
       "455         0   32       0          0  1.231394          4.2      1          0\n",
       "456         0   32       0          0  1.231394          4.4      0          0\n",
       "457         0   32       0          0  1.231394          4.5      1          0\n",
       "458         0   32       0          0  1.231394          3.2      1          0\n",
       "459         0   32       0          0  1.231394          4.3      0          0\n",
       "460         1   42       1          0  0.420400          3.3      0          1\n",
       "461         1   42       1          0  0.420400          3.2      0          1\n",
       "462         1   42       1          1  0.420400          4.1      1          1\n",
       "\n",
       "[463 rows x 8 columns]"
      ]
     },
     "execution_count": 24,
     "metadata": {},
     "output_type": "execute_result"
    }
   ],
   "source": [
    "ratings_df = pd.read_csv('teachingratingsexcel.csv')\n",
    "ratings_df"
   ]
  },
  {
   "cell_type": "markdown",
   "metadata": {},
   "source": [
    "The CSV file is not always arranged in such a way that pandas can easily interpret it, so it is good to print the set to ensure our data frame looks as expected.  To avoid lengthy lists the function \"head()\" can give us a suffiecient glimps of our data."
   ]
  },
  {
   "cell_type": "code",
   "execution_count": 25,
   "metadata": {},
   "outputs": [
    {
     "data": {
      "text/html": [
       "<div>\n",
       "<style>\n",
       "    .dataframe thead tr:only-child th {\n",
       "        text-align: right;\n",
       "    }\n",
       "\n",
       "    .dataframe thead th {\n",
       "        text-align: left;\n",
       "    }\n",
       "\n",
       "    .dataframe tbody tr th {\n",
       "        vertical-align: top;\n",
       "    }\n",
       "</style>\n",
       "<table border=\"1\" class=\"dataframe\">\n",
       "  <thead>\n",
       "    <tr style=\"text-align: right;\">\n",
       "      <th></th>\n",
       "      <th>minority</th>\n",
       "      <th>age</th>\n",
       "      <th>female</th>\n",
       "      <th>onecredit</th>\n",
       "      <th>beauty</th>\n",
       "      <th>course_eval</th>\n",
       "      <th>intro</th>\n",
       "      <th>nnenglish</th>\n",
       "    </tr>\n",
       "  </thead>\n",
       "  <tbody>\n",
       "    <tr>\n",
       "      <th>0</th>\n",
       "      <td>1</td>\n",
       "      <td>36</td>\n",
       "      <td>1</td>\n",
       "      <td>0</td>\n",
       "      <td>0.289916</td>\n",
       "      <td>4.3</td>\n",
       "      <td>0</td>\n",
       "      <td>0</td>\n",
       "    </tr>\n",
       "    <tr>\n",
       "      <th>1</th>\n",
       "      <td>0</td>\n",
       "      <td>59</td>\n",
       "      <td>0</td>\n",
       "      <td>0</td>\n",
       "      <td>-0.737732</td>\n",
       "      <td>4.5</td>\n",
       "      <td>0</td>\n",
       "      <td>0</td>\n",
       "    </tr>\n",
       "    <tr>\n",
       "      <th>2</th>\n",
       "      <td>0</td>\n",
       "      <td>51</td>\n",
       "      <td>0</td>\n",
       "      <td>0</td>\n",
       "      <td>-0.571984</td>\n",
       "      <td>3.7</td>\n",
       "      <td>0</td>\n",
       "      <td>0</td>\n",
       "    </tr>\n",
       "    <tr>\n",
       "      <th>3</th>\n",
       "      <td>0</td>\n",
       "      <td>40</td>\n",
       "      <td>1</td>\n",
       "      <td>0</td>\n",
       "      <td>-0.677963</td>\n",
       "      <td>4.3</td>\n",
       "      <td>0</td>\n",
       "      <td>0</td>\n",
       "    </tr>\n",
       "    <tr>\n",
       "      <th>4</th>\n",
       "      <td>0</td>\n",
       "      <td>31</td>\n",
       "      <td>1</td>\n",
       "      <td>0</td>\n",
       "      <td>1.509794</td>\n",
       "      <td>4.4</td>\n",
       "      <td>0</td>\n",
       "      <td>0</td>\n",
       "    </tr>\n",
       "  </tbody>\n",
       "</table>\n",
       "</div>"
      ],
      "text/plain": [
       "   minority  age  female  onecredit    beauty  course_eval  intro  nnenglish\n",
       "0         1   36       1          0  0.289916          4.3      0          0\n",
       "1         0   59       0          0 -0.737732          4.5      0          0\n",
       "2         0   51       0          0 -0.571984          3.7      0          0\n",
       "3         0   40       1          0 -0.677963          4.3      0          0\n",
       "4         0   31       1          0  1.509794          4.4      0          0"
      ]
     },
     "execution_count": 25,
     "metadata": {},
     "output_type": "execute_result"
    }
   ],
   "source": [
    "ratings_df.head()"
   ]
  },
  {
   "cell_type": "markdown",
   "metadata": {},
   "source": [
    "### Summarizing Data\n",
    "\n",
    "Summary statistics, such as counts, means, and standard deviation, are often essential to describing quantitative data.  Below you will see several examples of different options for obtaining the summary statistics you need."
   ]
  },
  {
   "cell_type": "markdown",
   "metadata": {},
   "source": [
    "The describe function gives us a great first look at interpreting our data:"
   ]
  },
  {
   "cell_type": "code",
   "execution_count": 26,
   "metadata": {},
   "outputs": [
    {
     "data": {
      "text/html": [
       "<div>\n",
       "<style>\n",
       "    .dataframe thead tr:only-child th {\n",
       "        text-align: right;\n",
       "    }\n",
       "\n",
       "    .dataframe thead th {\n",
       "        text-align: left;\n",
       "    }\n",
       "\n",
       "    .dataframe tbody tr th {\n",
       "        vertical-align: top;\n",
       "    }\n",
       "</style>\n",
       "<table border=\"1\" class=\"dataframe\">\n",
       "  <thead>\n",
       "    <tr style=\"text-align: right;\">\n",
       "      <th></th>\n",
       "      <th>minority</th>\n",
       "      <th>age</th>\n",
       "      <th>female</th>\n",
       "      <th>onecredit</th>\n",
       "      <th>beauty</th>\n",
       "      <th>course_eval</th>\n",
       "      <th>intro</th>\n",
       "      <th>nnenglish</th>\n",
       "    </tr>\n",
       "  </thead>\n",
       "  <tbody>\n",
       "    <tr>\n",
       "      <th>count</th>\n",
       "      <td>463.000000</td>\n",
       "      <td>463.000000</td>\n",
       "      <td>463.000000</td>\n",
       "      <td>463.000000</td>\n",
       "      <td>4.630000e+02</td>\n",
       "      <td>463.000000</td>\n",
       "      <td>463.000000</td>\n",
       "      <td>463.000000</td>\n",
       "    </tr>\n",
       "    <tr>\n",
       "      <th>mean</th>\n",
       "      <td>0.138229</td>\n",
       "      <td>48.365011</td>\n",
       "      <td>0.421166</td>\n",
       "      <td>0.058315</td>\n",
       "      <td>6.263499e-08</td>\n",
       "      <td>3.998272</td>\n",
       "      <td>0.339093</td>\n",
       "      <td>0.060475</td>\n",
       "    </tr>\n",
       "    <tr>\n",
       "      <th>std</th>\n",
       "      <td>0.345513</td>\n",
       "      <td>9.802742</td>\n",
       "      <td>0.494280</td>\n",
       "      <td>0.234592</td>\n",
       "      <td>7.886477e-01</td>\n",
       "      <td>0.554866</td>\n",
       "      <td>0.473913</td>\n",
       "      <td>0.238623</td>\n",
       "    </tr>\n",
       "    <tr>\n",
       "      <th>min</th>\n",
       "      <td>0.000000</td>\n",
       "      <td>29.000000</td>\n",
       "      <td>0.000000</td>\n",
       "      <td>0.000000</td>\n",
       "      <td>-1.450494e+00</td>\n",
       "      <td>2.100000</td>\n",
       "      <td>0.000000</td>\n",
       "      <td>0.000000</td>\n",
       "    </tr>\n",
       "    <tr>\n",
       "      <th>25%</th>\n",
       "      <td>0.000000</td>\n",
       "      <td>42.000000</td>\n",
       "      <td>0.000000</td>\n",
       "      <td>0.000000</td>\n",
       "      <td>-6.562689e-01</td>\n",
       "      <td>3.600000</td>\n",
       "      <td>0.000000</td>\n",
       "      <td>0.000000</td>\n",
       "    </tr>\n",
       "    <tr>\n",
       "      <th>50%</th>\n",
       "      <td>0.000000</td>\n",
       "      <td>48.000000</td>\n",
       "      <td>0.000000</td>\n",
       "      <td>0.000000</td>\n",
       "      <td>-6.801430e-02</td>\n",
       "      <td>4.000000</td>\n",
       "      <td>0.000000</td>\n",
       "      <td>0.000000</td>\n",
       "    </tr>\n",
       "    <tr>\n",
       "      <th>75%</th>\n",
       "      <td>0.000000</td>\n",
       "      <td>57.000000</td>\n",
       "      <td>1.000000</td>\n",
       "      <td>0.000000</td>\n",
       "      <td>5.456024e-01</td>\n",
       "      <td>4.400000</td>\n",
       "      <td>1.000000</td>\n",
       "      <td>0.000000</td>\n",
       "    </tr>\n",
       "    <tr>\n",
       "      <th>max</th>\n",
       "      <td>1.000000</td>\n",
       "      <td>73.000000</td>\n",
       "      <td>1.000000</td>\n",
       "      <td>1.000000</td>\n",
       "      <td>1.970023e+00</td>\n",
       "      <td>5.000000</td>\n",
       "      <td>1.000000</td>\n",
       "      <td>1.000000</td>\n",
       "    </tr>\n",
       "  </tbody>\n",
       "</table>\n",
       "</div>"
      ],
      "text/plain": [
       "         minority         age      female   onecredit        beauty  \\\n",
       "count  463.000000  463.000000  463.000000  463.000000  4.630000e+02   \n",
       "mean     0.138229   48.365011    0.421166    0.058315  6.263499e-08   \n",
       "std      0.345513    9.802742    0.494280    0.234592  7.886477e-01   \n",
       "min      0.000000   29.000000    0.000000    0.000000 -1.450494e+00   \n",
       "25%      0.000000   42.000000    0.000000    0.000000 -6.562689e-01   \n",
       "50%      0.000000   48.000000    0.000000    0.000000 -6.801430e-02   \n",
       "75%      0.000000   57.000000    1.000000    0.000000  5.456024e-01   \n",
       "max      1.000000   73.000000    1.000000    1.000000  1.970023e+00   \n",
       "\n",
       "       course_eval       intro   nnenglish  \n",
       "count   463.000000  463.000000  463.000000  \n",
       "mean      3.998272    0.339093    0.060475  \n",
       "std       0.554866    0.473913    0.238623  \n",
       "min       2.100000    0.000000    0.000000  \n",
       "25%       3.600000    0.000000    0.000000  \n",
       "50%       4.000000    0.000000    0.000000  \n",
       "75%       4.400000    1.000000    0.000000  \n",
       "max       5.000000    1.000000    1.000000  "
      ]
     },
     "execution_count": 26,
     "metadata": {},
     "output_type": "execute_result"
    }
   ],
   "source": [
    "ratings_df.describe()"
   ]
  },
  {
   "cell_type": "markdown",
   "metadata": {},
   "source": [
    "Now what? Let's start by isolating one column"
   ]
  },
  {
   "cell_type": "code",
   "execution_count": 27,
   "metadata": {},
   "outputs": [
    {
     "data": {
      "text/plain": [
       "0    1\n",
       "1    0\n",
       "2    0\n",
       "3    0\n",
       "4    0\n",
       "Name: minority, dtype: int64"
      ]
     },
     "execution_count": 27,
     "metadata": {},
     "output_type": "execute_result"
    }
   ],
   "source": [
    "# index to see one variable/column in a data frame\n",
    "ratings_df['minority'].head()"
   ]
  },
  {
   "cell_type": "markdown",
   "metadata": {},
   "source": [
    "We can also apply the describe method to only one column:"
   ]
  },
  {
   "cell_type": "code",
   "execution_count": 28,
   "metadata": {},
   "outputs": [
    {
     "data": {
      "text/plain": [
       "count    463.000000\n",
       "mean       0.138229\n",
       "std        0.345513\n",
       "min        0.000000\n",
       "25%        0.000000\n",
       "50%        0.000000\n",
       "75%        0.000000\n",
       "max        1.000000\n",
       "Name: minority, dtype: float64"
      ]
     },
     "execution_count": 28,
     "metadata": {},
     "output_type": "execute_result"
    }
   ],
   "source": [
    "ratings_df['minority'].describe()"
   ]
  },
  {
   "cell_type": "markdown",
   "metadata": {},
   "source": [
    "We may use the value_counts command to further break down one of our columns into groups:"
   ]
  },
  {
   "cell_type": "code",
   "execution_count": 29,
   "metadata": {},
   "outputs": [
    {
     "data": {
      "text/plain": [
       "0    268\n",
       "1    195\n",
       "Name: female, dtype: int64"
      ]
     },
     "execution_count": 29,
     "metadata": {},
     "output_type": "execute_result"
    }
   ],
   "source": [
    "# very basic frequency counts\n",
    "ratings_df['female'].value_counts()\n",
    "\n"
   ]
  },
  {
   "cell_type": "markdown",
   "metadata": {},
   "source": [
    "Note that the female column only takes values zero or one: in statistics this is known as a binary variable.  Here one indicates female and 0 indicates non-female."
   ]
  },
  {
   "cell_type": "markdown",
   "metadata": {},
   "source": [
    "### Data Exploration with Graphics\n",
    "\n",
    "With some of the basics under our belt, let's introduce some graphics to help us visualize our data.  Let's begin by downloading a plotting package."
   ]
  },
  {
   "cell_type": "code",
   "execution_count": 30,
   "metadata": {
    "collapsed": true
   },
   "outputs": [],
   "source": [
    "import matplotlib.pyplot as plt"
   ]
  },
  {
   "cell_type": "markdown",
   "metadata": {},
   "source": [
    "Let's start with a histogram of course evaluations with 10 bins:"
   ]
  },
  {
   "cell_type": "code",
   "execution_count": 31,
   "metadata": {},
   "outputs": [
    {
     "data": {
      "image/png": "[encoded data removed]",
      "text/plain": [
       "<matplotlib.figure.Figure at 0x113c6b128>"
      ]
     },
     "metadata": {},
     "output_type": "display_data"
    }
   ],
   "source": [
    "plt.hist(ratings_df['course_eval'], bins=10)\n",
    "plt.xlabel('Course Evaluation Score')\n",
    "plt.ylabel('Frequency')\n",
    "plt.show()"
   ]
  },
  {
   "cell_type": "markdown",
   "metadata": {},
   "source": [
    "Now, let's try a scatter:"
   ]
  },
  {
   "cell_type": "code",
   "execution_count": 32,
   "metadata": {},
   "outputs": [
    {
     "data": {
      "image/png": "[encoded data removed]",
      "text/plain": [
       "<matplotlib.figure.Figure at 0x118c7d9b0>"
      ]
     },
     "metadata": {},
     "output_type": "display_data"
    }
   ],
   "source": [
    "plt.scatter(ratings_df['course_eval'], ratings_df['beauty'], marker=\".\")\n",
    "plt.xlabel('Course Evaluation Score')\n",
    "plt.ylabel('Beauty')\n",
    "plt.title('Beauty versus Course Evaluation', fontweight=\"bold\")\n",
    "plt.show()"
   ]
  },
  {
   "cell_type": "markdown",
   "metadata": {},
   "source": [
    "The above plot gives us the sense that there may be a positive correlation between course evaluation and beauty, but no clearer trend.\n",
    "\n",
    "What other columns might we want to try plotting as a scatter?  You try!"
   ]
  },
  {
   "cell_type": "code",
   "execution_count": null,
   "metadata": {
    "collapsed": true
   },
   "outputs": [],
   "source": []
  },
  {
   "cell_type": "code",
   "execution_count": null,
   "metadata": {
    "collapsed": true
   },
   "outputs": [],
   "source": []
  }
 ],
 "metadata": {
  "anaconda-cloud": {},
  "kernelspec": {
   "display_name": "Python 3",
   "language": "python",
   "name": "python3"
  },
  "language_info": {
   "codemirror_mode": {
    "name": "ipython",
    "version": 3
   },
   "file_extension": ".py",
   "mimetype": "text/x-python",
   "name": "python",
   "nbconvert_exporter": "python",
   "pygments_lexer": "ipython3",
   "version": "3.6.3"
  }
 },
 "nbformat": 4,
 "nbformat_minor": 2
}
